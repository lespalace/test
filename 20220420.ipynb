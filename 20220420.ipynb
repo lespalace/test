{
  "nbformat": 4,
  "nbformat_minor": 0,
  "metadata": {
    "colab": {
      "name": "20220420",
      "provenance": [],
      "collapsed_sections": []
    },
    "kernelspec": {
      "name": "python3",
      "display_name": "Python 3"
    },
    "language_info": {
      "name": "python"
    }
  },
  "cells": [
    {
      "cell_type": "code",
      "source": [
        "#1. 파일에 문자열 쓰기"
      ],
      "metadata": {
        "id": "61RZDUJJ10y2"
      },
      "execution_count": null,
      "outputs": []
    },
    {
      "cell_type": "code",
      "source": [
        ""
      ],
      "metadata": {
        "id": "Cj3S0tsG76Lc"
      },
      "execution_count": null,
      "outputs": []
    },
    {
      "cell_type": "code",
      "source": [
        ""
      ],
      "metadata": {
        "id": "If8o9MJv72dG"
      },
      "execution_count": null,
      "outputs": []
    },
    {
      "cell_type": "code",
      "execution_count": null,
      "metadata": {
        "id": "Knp6RTkAv2Ce"
      },
      "outputs": [],
      "source": [
        "file = open('hello.txt', 'w')    # hello.txt 파일을 쓰기 모드(w)로 열기. 파일 객체 반환\n",
        "file.write('Hello, world!')      # 파일에 문자열 저장\n",
        "file.close()                     # 파일 객체 닫기"
      ]
    },
    {
      "cell_type": "code",
      "source": [
        "Hello, world!"
      ],
      "metadata": {
        "id": "7p0e7ZfIwA-F"
      },
      "execution_count": null,
      "outputs": []
    },
    {
      "cell_type": "code",
      "source": [
        "# 2. 파일에서 문자열 읽기"
      ],
      "metadata": {
        "id": "N6tx3PXC1xMM"
      },
      "execution_count": null,
      "outputs": []
    },
    {
      "cell_type": "code",
      "source": [
        "file = open('hello.txt', 'r')    # hello.txt 파일을 읽기 모드(r)로 열기. 파일 객체 반환\n",
        "s = file.read()                  # 파일에서 문자열 읽기\n",
        "print(s)                         # Hello, world!\n",
        "file.close()                     # 파일 객체 닫기"
      ],
      "metadata": {
        "id": "MM9ZTfxA1K8_"
      },
      "execution_count": null,
      "outputs": []
    },
    {
      "cell_type": "code",
      "source": [
        "Hello, world!"
      ],
      "metadata": {
        "id": "5PlX9Y3P1MY2"
      },
      "execution_count": null,
      "outputs": []
    },
    {
      "cell_type": "code",
      "source": [
        "# 3. 자동으로 파일 객체 닫기 \n"
      ],
      "metadata": {
        "id": "R1pRpQCp1kCU"
      },
      "execution_count": null,
      "outputs": []
    },
    {
      "cell_type": "code",
      "source": [
        "with open(파일이름, 파일모드) as 파일객체:\n",
        "  \n",
        "with open('hello.txt', 'r') as file:    # hello.txt 파일을 읽기 모드(r)로 열기\n",
        "    s = file.read()                     # 파일에서 문자열 읽기\n",
        "    print(s)                            # Hello, world!"
      ],
      "metadata": {
        "id": "m8i-4Ues1mW-"
      },
      "execution_count": null,
      "outputs": []
    },
    {
      "cell_type": "code",
      "source": [
        "Hello, world!"
      ],
      "metadata": {
        "id": "quh5Sdg61o3s"
      },
      "execution_count": null,
      "outputs": []
    },
    {
      "cell_type": "code",
      "source": [
        " # 4. 반복문으로 문자열 여러 줄을 파일에 쓰기"
      ],
      "metadata": {
        "id": "_pVTE0Ke17Ob"
      },
      "execution_count": null,
      "outputs": []
    },
    {
      "cell_type": "code",
      "source": [
        "with open('hello.txt', 'w') as file:    # hello.txt 파일을 쓰기 모드(w)로 열기\n",
        "    for i in range(3):\n",
        "        file.write('Hello, world! {0}\\n'.format(i))"
      ],
      "metadata": {
        "id": "yizEGV4o2E13"
      },
      "execution_count": null,
      "outputs": []
    },
    {
      "cell_type": "code",
      "source": [
        "Hello, world! 0\n",
        "Hello, world! 1\n",
        "Hello, world! 2"
      ],
      "metadata": {
        "id": "P9Vaaudg2IW0"
      },
      "execution_count": null,
      "outputs": []
    },
    {
      "cell_type": "code",
      "source": [
        "# 5. 리스트에 들어있는 문자열을 파일에 쓰기"
      ],
      "metadata": {
        "id": "H5SUMBRa2Pqb"
      },
      "execution_count": null,
      "outputs": []
    },
    {
      "cell_type": "code",
      "source": [
        "lines = ['안녕하세요.\\n', '파이썬\\n', '코딩 도장입니다.\\n']\n",
        " \n",
        "with open('hello.txt', 'w') as file:    # hello.txt 파일을 쓰기 모드(w)로 열기\n",
        "    file.writelines(lines)"
      ],
      "metadata": {
        "id": "V69JE_WO2RXE"
      },
      "execution_count": null,
      "outputs": []
    },
    {
      "cell_type": "code",
      "source": [
        "안녕하세요.\n",
        "파이썬\n",
        "코딩 도장입니다."
      ],
      "metadata": {
        "id": "GlEOTDYI2Uw7"
      },
      "execution_count": null,
      "outputs": []
    },
    {
      "cell_type": "code",
      "source": [
        "# 6. 파일의 내용을 한 줄씩 리스트로 가져오기"
      ],
      "metadata": {
        "id": "uzmlv2uP2X5D"
      },
      "execution_count": null,
      "outputs": []
    },
    {
      "cell_type": "code",
      "source": [
        "with open('hello.txt', 'r') as file:    # hello.txt 파일을 읽기 모드(r)로 열기\n",
        "    lines = file.readlines()\n",
        "    print(lines)"
      ],
      "metadata": {
        "id": "KDkoejbc2bFE"
      },
      "execution_count": null,
      "outputs": []
    },
    {
      "cell_type": "code",
      "source": [
        "\n",
        "['안녕하세요.\\n', '파이썬\\n', '코딩 도장입니다.\\n']"
      ],
      "metadata": {
        "id": "VJ0vF3VK2dPL"
      },
      "execution_count": null,
      "outputs": []
    },
    {
      "cell_type": "code",
      "source": [
        "# 7. 파일의 내용을 한 줄씩 읽기 "
      ],
      "metadata": {
        "id": "GZizn4Wi2f-U"
      },
      "execution_count": null,
      "outputs": []
    },
    {
      "cell_type": "code",
      "source": [
        "with open('hello.txt', 'r') as file:    # hello.txt 파일을 읽기 모드(r)로 열기\n",
        "    line = None    # 변수 line을 None으로 초기화\n",
        "    while line != '':\n",
        "        line = file.readline()\n",
        "        print(line.strip('\\n'))    # 파일에서 읽어온 문자열에서 \\n 삭제하여 출력"
      ],
      "metadata": {
        "id": "xzFDD4AY2qZE"
      },
      "execution_count": null,
      "outputs": []
    },
    {
      "cell_type": "code",
      "source": [
        "안녕하세요.\n",
        "파이썬\n",
        "코딩 도장입니다."
      ],
      "metadata": {
        "id": "L-CVyR2y2tEO"
      },
      "execution_count": null,
      "outputs": []
    },
    {
      "cell_type": "code",
      "source": [
        "# 8. for 반복문으로 파일의 내용을 줄 단위로 읽기"
      ],
      "metadata": {
        "id": "Hc5MJKRC2xPb"
      },
      "execution_count": null,
      "outputs": []
    },
    {
      "cell_type": "code",
      "source": [
        "with open('hello.txt', 'r') as file:    # hello.txt 파일을 읽기 모드(r)로 열기\n",
        "    for line in file:    # for에 파일 객체를 지정하면 파일의 내용을 한 줄씩 읽어서 변수에 저장함\n",
        "        print(line.strip('\\n'))    # 파일에서 읽어온 문자열에서 \\n 삭제하여 출력"
      ],
      "metadata": {
        "id": "Vja_WnhZ20k9"
      },
      "execution_count": null,
      "outputs": []
    },
    {
      "cell_type": "code",
      "source": [
        "안녕하세요.\n",
        "파이썬\n",
        "코딩 도장입니다."
      ],
      "metadata": {
        "id": "2EQAPvhJ24-D"
      },
      "execution_count": null,
      "outputs": []
    },
    {
      "cell_type": "code",
      "source": [
        "# 9. 파이썬 객체를 파일에 저장하기"
      ],
      "metadata": {
        "id": "rC-Wr-f33P4E"
      },
      "execution_count": null,
      "outputs": []
    },
    {
      "cell_type": "code",
      "source": [
        "import pickle\n",
        " \n",
        "name = 'james'\n",
        "age = 17\n",
        "address = '서울시 서초구 반포동'\n",
        "scores = {'korean': 90, 'english': 95, 'mathematics': 85, 'science': 82}\n",
        " \n",
        "with open('james.p', 'wb') as file:    # james.p 파일을 바이너리 쓰기 모드(wb)로 열기\n",
        "    pickle.dump(name, file)\n",
        "    pickle.dump(age, file)\n",
        "    pickle.dump(address, file)\n",
        "    pickle.dump(scores, file)"
      ],
      "metadata": {
        "id": "aQ0nLJeh3Si8"
      },
      "execution_count": null,
      "outputs": []
    },
    {
      "cell_type": "code",
      "source": [
        "# 10. 파일에서 파이썬 객체 읽기"
      ],
      "metadata": {
        "id": "YB9Od36F3VUT"
      },
      "execution_count": null,
      "outputs": []
    },
    {
      "cell_type": "code",
      "source": [
        "import pickle\n",
        " \n",
        "with open('james.p', 'rb') as file:    # james.p 파일을 바이너리 읽기 모드(rb)로 열기\n",
        "    name = pickle.load(file)\n",
        "    age = pickle.load(file)\n",
        "    address = pickle.load(file)\n",
        "    scores = pickle.load(file)\n",
        "    print(name)\n",
        "    print(age)\n",
        "    print(address)\n",
        "    print(scores)"
      ],
      "metadata": {
        "id": "YTkSbBJs3Yue"
      },
      "execution_count": null,
      "outputs": []
    },
    {
      "cell_type": "code",
      "source": [
        "james\n",
        "17\n",
        "서울시 서초구 반포동\n",
        "{'korean': 90, 'english': 95, 'mathematics': 85, 'science': 82}"
      ],
      "metadata": {
        "id": "nij76xrP3ep7"
      },
      "execution_count": null,
      "outputs": []
    },
    {
      "cell_type": "code",
      "source": [
        " 퀴즈 "
      ],
      "metadata": {
        "id": "74jlucB24uTt"
      },
      "execution_count": null,
      "outputs": []
    },
    {
      "cell_type": "code",
      "source": [
        "1. 다음 중 파일에 문자열을 쓸 때 파일 열기 방법으로 올바른 것을 고르세요.\n",
        "\n",
        "file = open('hello.txt', 'r')\n",
        "file = open('hello.txt', 'b')\n",
        "file = open('hello.txt', 'rb')\n",
        "file = open('hello.txt', 'w') <----\n",
        "file = open('hello.txt', 'wb')\n"
      ],
      "metadata": {
        "id": "thptV6KN36dj"
      },
      "execution_count": null,
      "outputs": []
    },
    {
      "cell_type": "code",
      "source": [
        "2. 다음 중 파일에서 문자열을 한 줄씩 읽어서 리스트 형태로 가져오는 메서드로 올바른 것을 고르세요.\n",
        "\n",
        "read\n",
        "readline\n",
        "readlines <----\n",
        "writelines\n",
        "write"
      ],
      "metadata": {
        "id": "H7FzWGmX4DNT"
      },
      "execution_count": null,
      "outputs": []
    },
    {
      "cell_type": "code",
      "source": [
        "3. 다음 중 pickle 모듈로 파일에 저장된 파이썬의 객체를 읽어올 때 파일 열기 방법으로 올바른 것을 고르세요.\n",
        "\n",
        "file = open('maria.p', 'r')\n",
        "file = open('maria.p', 'rb') < - \n",
        "file = open('maria.p', 'w')\n",
        "file = open('maria.p', 'wb')\n",
        "file = open('maria.p', 'rt')"
      ],
      "metadata": {
        "id": "PWlqqFMY4IwU"
      },
      "execution_count": null,
      "outputs": []
    }
  ]
}